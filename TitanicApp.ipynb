{
 "cells": [
  {
   "cell_type": "code",
   "execution_count": 7,
   "id": "37d38ae7",
   "metadata": {},
   "outputs": [],
   "source": [
    "import streamlit as st\n",
    "import pickle\n",
    "import numpy as np"
   ]
  },
  {
   "cell_type": "code",
   "execution_count": 8,
   "id": "8054d95f",
   "metadata": {},
   "outputs": [],
   "source": [
    "# load  model encoder\n",
    "\n",
    "with open(\"log_model.pkl\",\"rb\") as f:\n",
    "    model = pickle.load(f)"
   ]
  },
  {
   "cell_type": "code",
   "execution_count": 9,
   "id": "99fd1256",
   "metadata": {},
   "outputs": [],
   "source": [
    "with open(\"sex_encoder.pkl\",\"rb\") as f:\n",
    "    model = pickle.load(f)"
   ]
  },
  {
   "cell_type": "code",
   "execution_count": 10,
   "id": "2cf68291",
   "metadata": {},
   "outputs": [],
   "source": [
    "with open(\"embarked_encoder.pkl\",\"rb\") as f:\n",
    "    model = pickle.load(f)"
   ]
  },
  {
   "cell_type": "code",
   "execution_count": 11,
   "id": "cfab53c1",
   "metadata": {},
   "outputs": [
    {
     "name": "stderr",
     "output_type": "stream",
     "text": [
      "2025-08-06 14:32:16.485 Thread 'MainThread': missing ScriptRunContext! This warning can be ignored when running in bare mode.\n",
      "2025-08-06 14:32:16.489 Thread 'MainThread': missing ScriptRunContext! This warning can be ignored when running in bare mode.\n",
      "2025-08-06 14:32:16.490 Thread 'MainThread': missing ScriptRunContext! This warning can be ignored when running in bare mode.\n"
     ]
    },
    {
     "ename": "NameError",
     "evalue": "name 'sex_encoder' is not defined",
     "output_type": "error",
     "traceback": [
      "\u001b[1;31m---------------------------------------------------------------------------\u001b[0m",
      "\u001b[1;31mNameError\u001b[0m                                 Traceback (most recent call last)",
      "Cell \u001b[1;32mIn[11], line 5\u001b[0m\n\u001b[0;32m      1\u001b[0m \u001b[38;5;66;03m# Set UI title\u001b[39;00m\n\u001b[0;32m      3\u001b[0m st\u001b[38;5;241m.\u001b[39mtitle(\u001b[38;5;124m\"\u001b[39m\u001b[38;5;124mTitanic Survival Prediction\u001b[39m\u001b[38;5;124m\"\u001b[39m)\n\u001b[1;32m----> 5\u001b[0m sex_option \u001b[38;5;241m=\u001b[39m \u001b[38;5;28mlist\u001b[39m(\u001b[43msex_encoder\u001b[49m\u001b[38;5;241m.\u001b[39mclasses_)\n\u001b[0;32m      6\u001b[0m emb_option \u001b[38;5;241m=\u001b[39m \u001b[38;5;28mlist\u001b[39m(embarked_encoder\u001b[38;5;241m.\u001b[39mclasses_)\n\u001b[0;32m      7\u001b[0m psngr_class \u001b[38;5;241m=\u001b[39m [\u001b[38;5;241m1\u001b[39m,\u001b[38;5;241m2\u001b[39m,\u001b[38;5;241m3\u001b[39m]\n",
      "\u001b[1;31mNameError\u001b[0m: name 'sex_encoder' is not defined"
     ]
    }
   ],
   "source": [
    "# Set UI title\n",
    "\n",
    "st.title(\"Titanic Survival Prediction\")\n",
    "\n",
    "sex_option = list(sex_encoder.classes_)\n",
    "emb_option = list(embarked_encoder.classes_)\n",
    "psngr_class = [1,2,3]\n",
    "\n",
    "#user input\n",
    "Pclass = st.selectbox(\"Passenger Class\",psngr_class)\n",
    "Sex = st.selectbox(\"Passenger Sex\",sex_option)\n",
    "Age = st.slider(\"Passsenger Age\",min_value=0)\n",
    "Fare = st.number_input(\"Fair Paid\",min_value=0)\n",
    "Embarked = st.selectbox(\"Embarked\", emb_option)\n",
    "\n",
    "\n"
   ]
  },
  {
   "cell_type": "code",
   "execution_count": null,
   "id": "246aeec2",
   "metadata": {},
   "outputs": [],
   "source": []
  }
 ],
 "metadata": {
  "kernelspec": {
   "display_name": "Python 3",
   "language": "python",
   "name": "python3"
  },
  "language_info": {
   "codemirror_mode": {
    "name": "ipython",
    "version": 3
   },
   "file_extension": ".py",
   "mimetype": "text/x-python",
   "name": "python",
   "nbconvert_exporter": "python",
   "pygments_lexer": "ipython3",
   "version": "3.12.2"
  }
 },
 "nbformat": 4,
 "nbformat_minor": 5
}
